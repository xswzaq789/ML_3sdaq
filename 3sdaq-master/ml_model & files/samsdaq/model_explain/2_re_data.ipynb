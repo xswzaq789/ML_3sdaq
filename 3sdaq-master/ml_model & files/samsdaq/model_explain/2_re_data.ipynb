{
 "cells": [
  {
   "cell_type": "code",
   "execution_count": 2,
   "id": "11551f9e",
   "metadata": {},
   "outputs": [],
   "source": [
    "import numpy as np \n",
    "import pandas as pd \n",
    "import re\n",
    "\n",
    "from time import sleep\n",
    "import time as time\n"
   ]
  },
  {
   "cell_type": "code",
   "execution_count": 3,
   "id": "a21d64c1",
   "metadata": {
    "scrolled": true
   },
   "outputs": [
    {
     "data": {
      "text/html": [
       "<div>\n",
       "<style scoped>\n",
       "    .dataframe tbody tr th:only-of-type {\n",
       "        vertical-align: middle;\n",
       "    }\n",
       "\n",
       "    .dataframe tbody tr th {\n",
       "        vertical-align: top;\n",
       "    }\n",
       "\n",
       "    .dataframe thead th {\n",
       "        text-align: right;\n",
       "    }\n",
       "</style>\n",
       "<table border=\"1\" class=\"dataframe\">\n",
       "  <thead>\n",
       "    <tr style=\"text-align: right;\">\n",
       "      <th></th>\n",
       "      <th>0</th>\n",
       "      <th>1</th>\n",
       "      <th>2</th>\n",
       "      <th>3</th>\n",
       "      <th>4</th>\n",
       "      <th>5</th>\n",
       "      <th>6</th>\n",
       "      <th>7</th>\n",
       "      <th>8</th>\n",
       "      <th>9</th>\n",
       "      <th>...</th>\n",
       "      <th>24965</th>\n",
       "      <th>24966</th>\n",
       "      <th>24967</th>\n",
       "      <th>24968</th>\n",
       "      <th>24969</th>\n",
       "      <th>24970</th>\n",
       "      <th>24971</th>\n",
       "      <th>24972</th>\n",
       "      <th>24973</th>\n",
       "      <th>24974</th>\n",
       "    </tr>\n",
       "  </thead>\n",
       "  <tbody>\n",
       "    <tr>\n",
       "      <th>0</th>\n",
       "      <td>[아이넷 AI 로봇 기자] 특징주, 무림페이퍼-제지 테마 상승세에 10.4% ↑</td>\n",
       "      <td>[아이넷 AI 로봇 기자] 특징주, 영풍제지-골판지 제조 테마 상승세에 28.29% ↑</td>\n",
       "      <td>[아이넷 AI 로봇 기자] 특징주, 깨끗한나라-제지 테마 상승세에 5.65% ↑</td>\n",
       "      <td>[아이넷 AI 로봇 기자] 특징주, 신풍제지-제지 테마 상승세에 20.43% ↑</td>\n",
       "      <td>\"한섬, 업황 회복으로 실적 모멘텀 지속\"...비중확대는 DSR무관 야호스탁 상품으로</td>\n",
       "      <td>[아이넷 AI 로봇 기자] 특징주, 무림SP-제지 테마 상승세에 7.85% ↑</td>\n",
       "      <td>데브시스터즈 1분기 영업이익 94억원…작년 동기 대비 60.2%↓</td>\n",
       "      <td>\"호텔·상가 리츠, 리오프닝 기대\"...대비는 DSR무관 골드스탁 재원으로</td>\n",
       "      <td>파멥신, 제프리스 헬스케어 컨퍼런스 초청 참석</td>\n",
       "      <td>한화자산운용, 세계 최초 대체자산 전반에 투자하는 ETF 상장</td>\n",
       "      <td>...</td>\n",
       "      <td>[코스닥] 6.19p(0.59%) 내린 1,043.64(장종료)</td>\n",
       "      <td>[레이더M] F&amp;F와 손잡은 센트로이드, 테일러메이드 거래 종결 박차</td>\n",
       "      <td>[아이넷 AI 로봇 기자] 특징주, 우정바이오-코로나19(음압병실/음압구급차) 테마...</td>\n",
       "      <td>[아이넷 AI 로봇 기자] 한진중공업(097230), 도마변동9재정비촉진구역 주택재...</td>\n",
       "      <td>[레이더M] 교직원공제회, 국내 PEF 블라인드 펀드 총 8개사 선정</td>\n",
       "      <td>[아이넷 AI 로봇 기자] 디오 '디지털 임플란트는 디오!' 증권사 발표에 강세…3.8%</td>\n",
       "      <td>[아이넷 AI 로봇 기자] 에스트래픽(234300), 인천국제공항공사와 71.5억원...</td>\n",
       "      <td>미래에셋자산운용, 글로벌 테마형 ETF 신규 상장 이벤트</td>\n",
       "      <td>메디아나, 2분기 영업익 18.5억원…2분기 연속 흑자 행진</td>\n",
       "      <td>두산중공업, 미 뉴스케일파워에 추가 투자…소형모듈원전 사업 협력 강화</td>\n",
       "    </tr>\n",
       "  </tbody>\n",
       "</table>\n",
       "<p>1 rows × 24975 columns</p>\n",
       "</div>"
      ],
      "text/plain": [
       "                                          0      \\\n",
       "0  [아이넷 AI 로봇 기자] 특징주, 무림페이퍼-제지 테마 상승세에 10.4% ↑   \n",
       "\n",
       "                                              1      \\\n",
       "0  [아이넷 AI 로봇 기자] 특징주, 영풍제지-골판지 제조 테마 상승세에 28.29% ↑   \n",
       "\n",
       "                                          2      \\\n",
       "0  [아이넷 AI 로봇 기자] 특징주, 깨끗한나라-제지 테마 상승세에 5.65% ↑   \n",
       "\n",
       "                                          3      \\\n",
       "0  [아이넷 AI 로봇 기자] 특징주, 신풍제지-제지 테마 상승세에 20.43% ↑   \n",
       "\n",
       "                                             4      \\\n",
       "0  \"한섬, 업황 회복으로 실적 모멘텀 지속\"...비중확대는 DSR무관 야호스탁 상품으로   \n",
       "\n",
       "                                         5      \\\n",
       "0  [아이넷 AI 로봇 기자] 특징주, 무림SP-제지 테마 상승세에 7.85% ↑   \n",
       "\n",
       "                                  6      \\\n",
       "0  데브시스터즈 1분기 영업이익 94억원…작년 동기 대비 60.2%↓   \n",
       "\n",
       "                                       7                          8      \\\n",
       "0  \"호텔·상가 리츠, 리오프닝 기대\"...대비는 DSR무관 골드스탁 재원으로  파멥신, 제프리스 헬스케어 컨퍼런스 초청 참석   \n",
       "\n",
       "                                9      ...  \\\n",
       "0  한화자산운용, 세계 최초 대체자산 전반에 투자하는 ETF 상장  ...   \n",
       "\n",
       "                                 24965  \\\n",
       "0  [코스닥] 6.19p(0.59%) 내린 1,043.64(장종료)   \n",
       "\n",
       "                                    24966  \\\n",
       "0  [레이더M] F&F와 손잡은 센트로이드, 테일러메이드 거래 종결 박차   \n",
       "\n",
       "                                               24967  \\\n",
       "0  [아이넷 AI 로봇 기자] 특징주, 우정바이오-코로나19(음압병실/음압구급차) 테마...   \n",
       "\n",
       "                                               24968  \\\n",
       "0  [아이넷 AI 로봇 기자] 한진중공업(097230), 도마변동9재정비촉진구역 주택재...   \n",
       "\n",
       "                                    24969  \\\n",
       "0  [레이더M] 교직원공제회, 국내 PEF 블라인드 펀드 총 8개사 선정   \n",
       "\n",
       "                                               24970  \\\n",
       "0  [아이넷 AI 로봇 기자] 디오 '디지털 임플란트는 디오!' 증권사 발표에 강세…3.8%   \n",
       "\n",
       "                                               24971  \\\n",
       "0  [아이넷 AI 로봇 기자] 에스트래픽(234300), 인천국제공항공사와 71.5억원...   \n",
       "\n",
       "                             24972                              24973  \\\n",
       "0  미래에셋자산운용, 글로벌 테마형 ETF 신규 상장 이벤트  메디아나, 2분기 영업익 18.5억원…2분기 연속 흑자 행진   \n",
       "\n",
       "                                    24974  \n",
       "0  두산중공업, 미 뉴스케일파워에 추가 투자…소형모듈원전 사업 협력 강화  \n",
       "\n",
       "[1 rows x 24975 columns]"
      ]
     },
     "execution_count": 3,
     "metadata": {},
     "output_type": "execute_result"
    }
   ],
   "source": [
    "# 파일주소는 맞게 바꿔주세요 \n",
    "sample_data = pd.read_csv('news_headline_total.csv' ,header=None)\n",
    "sample_data"
   ]
  },
  {
   "cell_type": "code",
   "execution_count": 176,
   "id": "66cf0b89",
   "metadata": {},
   "outputs": [],
   "source": [
    "# T 전치행렬 곱해서  가로 세로 변경 \n",
    "news_title= sample_data.T\n",
    "news_title.columns = ['title'] \n",
    "\n",
    "# 모든라벨을 먼저 중립인 3으로 표시  \n",
    "news_title['label'] = 3 "
   ]
  },
  {
   "cell_type": "code",
   "execution_count": 177,
   "id": "c7ff30de",
   "metadata": {},
   "outputs": [],
   "source": [
    "# 화살표 의미 데이터 전처리 \n",
    "news_title = news_title.replace(['↑\\s*', '↓\\s*']  ,  [' 상승 ' , ' 하락 '], regex=True)\n"
   ]
  },
  {
   "cell_type": "code",
   "execution_count": 178,
   "id": "aa1cf907",
   "metadata": {},
   "outputs": [],
   "source": [
    "#  상관없는 뉴스 타이틀 삭제 \n",
    "drop_idx = news_title.index[(news_title['title'].str.contains('아이넷')) | (news_title['title'].str.contains(r'[[표]]')) | (news_title['title'].str.contains(r'[[부고]]'))\n",
    "                           |(news_title['title'].str.contains(r'[[게시판]]')) | (news_title['title'].str.contains(r'[[증시신상품]]')) | (news_title['title'].str.contains(r'[[유가증권시장 공시]]'))\n",
    "                           |(news_title['title'].str.contains(r'[[M&A 매물장터]]')) | (news_title['title'].str.contains(r'[[인사]]')) | (news_title['title'].str.contains(r'[[포토]]')) |(news_title['title'].str.contains(r'[[공모주 인사이드]]'))\n",
    "                           |(news_title['title'].str.contains(r'[[장마감 이슈]]')) | (news_title['title'].str.contains(r'[[AI 개장전 분석]]')) | (news_title['title'].str.contains('오늘의')) | (news_title['title'].str.contains('이 상품'))\n",
    "                           ]\n",
    "\n",
    "news_title = news_title.drop(drop_idx)"
   ]
  },
  {
   "cell_type": "code",
   "execution_count": 179,
   "id": "b237fa12",
   "metadata": {},
   "outputs": [
    {
     "name": "stderr",
     "output_type": "stream",
     "text": [
      "C:\\Users\\crid2\\AppData\\Local\\Temp\\ipykernel_1288\\587874182.py:9: SettingWithCopyWarning: \n",
      "A value is trying to be set on a copy of a slice from a DataFrame\n",
      "\n",
      "See the caveats in the documentation: https://pandas.pydata.org/pandas-docs/stable/user_guide/indexing.html#returning-a-view-versus-a-copy\n",
      "  news_title['label'][i] = 1\n"
     ]
    }
   ],
   "source": [
    "# 라벨 작업 (상승, 오른 , 흑자 , 최대 실적  , 최대실적 , 순매수 , 매수 , 고성장 , 반등 , 기대 , 증가  , (영업이익 늘어 2개 포함)\n",
    "up_stock_word = news_title.index[(news_title['title'].str.contains('상승')) | (news_title['title'].str.contains('오른'))| (news_title['title'].str.contains('흑자'))\n",
    "                        | (news_title['title'].str.contains('최대실적')) | (news_title['title'].str.contains('최대 실적'))| (news_title['title'].str.contains('순매수'))\n",
    "                        | (news_title['title'].str.contains('매수')) | (news_title['title'].str.contains('고성장'))| (news_title['title'].str.contains('반등'))| (news_title['title'].str.contains('기대'))\n",
    "                        | (news_title['title'].str.contains('증가')) | (news_title['title'].str.contains('선방'))  | (news_title['title'].str.contains('상향'))| (news_title['title'].str.contains('역대'))  \n",
    "                        | (news_title['title'].str.contains('최대')) | (news_title['title'].str.contains('긍정적'))| (news_title['title'].str.contains('낙관'))\n",
    "                        | (news_title['title'].str.contains('깜짝실적'))].values\n",
    "for i in up_stock_word : \n",
    "    news_title['label'][i] = 1 \n",
    "    "
   ]
  },
  {
   "cell_type": "code",
   "execution_count": 180,
   "id": "838b5590",
   "metadata": {},
   "outputs": [
    {
     "name": "stderr",
     "output_type": "stream",
     "text": [
      "C:\\Users\\crid2\\AppData\\Local\\Temp\\ipykernel_1288\\2981977823.py:10: SettingWithCopyWarning: \n",
      "A value is trying to be set on a copy of a slice from a DataFrame\n",
      "\n",
      "See the caveats in the documentation: https://pandas.pydata.org/pandas-docs/stable/user_guide/indexing.html#returning-a-view-versus-a-copy\n",
      "  news_title['label'][i] = 0\n"
     ]
    }
   ],
   "source": [
    "# 폭락, 기대이하 감소 , 하락\n",
    "down_stock_word = news_title.index[(news_title['title'].str.contains('하락')) | (news_title['title'].str.contains('내린'))| (news_title['title'].str.contains('적자'))\n",
    "                        | (news_title['title'].str.contains('최저'))| (news_title['title'].str.contains('우려'))| (news_title['title'].str.contains('순매도'))\n",
    "                        | (news_title['title'].str.contains('공매도'))| (news_title['title'].str.contains('저성장'))| (news_title['title'].str.contains('매도'))\n",
    "                        | (news_title['title'].str.contains('감소'))| (news_title['title'].str.contains('붕괴')) \n",
    "                        | (news_title['title'].str.contains('잃었다')) |  (news_title['title'].str.contains('증발'))  |  (news_title['title'].str.contains('부정적'))                                          \n",
    "                        | (news_title['title'].str.contains('하향')) | (news_title['title'].str.contains('뒷걸음')) | (news_title['title'].str.contains('폭락'))| (news_title['title'].str.contains('경고'))\n",
    "                        | (news_title['title'].str.contains('반등 실패')) | (news_title['title'].str.contains('부진'))].values\n",
    "for i in down_stock_word : \n",
    "    news_title['label'][i] = 0 "
   ]
  },
  {
   "cell_type": "code",
   "execution_count": 181,
   "id": "c7a93ccd",
   "metadata": {
    "scrolled": true
   },
   "outputs": [
    {
     "name": "stderr",
     "output_type": "stream",
     "text": [
      "C:\\Users\\crid2\\AppData\\Local\\Temp\\ipykernel_1288\\149451337.py:5: SettingWithCopyWarning: \n",
      "A value is trying to be set on a copy of a slice from a DataFrame\n",
      "\n",
      "See the caveats in the documentation: https://pandas.pydata.org/pandas-docs/stable/user_guide/indexing.html#returning-a-view-versus-a-copy\n",
      "  news_title['label'][i] = 3\n"
     ]
    }
   ],
   "source": [
    "# 중립 저가매수 , 성장주 , 테마주 \n",
    "noresult_stock_word = news_title.index[(news_title['title'].str.contains('저가매수'))|(news_title['title'].str.contains('전망'))\n",
    "                                      ].values\n",
    "for i in noresult_stock_word : \n",
    "    news_title['label'][i] = 3 "
   ]
  },
  {
   "cell_type": "code",
   "execution_count": 182,
   "id": "a5cb7577",
   "metadata": {},
   "outputs": [],
   "source": [
    "news_title = news_title.reset_index(drop=True)"
   ]
  },
  {
   "cell_type": "code",
   "execution_count": 183,
   "id": "605c2649",
   "metadata": {},
   "outputs": [
    {
     "data": {
      "text/html": [
       "<div>\n",
       "<style scoped>\n",
       "    .dataframe tbody tr th:only-of-type {\n",
       "        vertical-align: middle;\n",
       "    }\n",
       "\n",
       "    .dataframe tbody tr th {\n",
       "        vertical-align: top;\n",
       "    }\n",
       "\n",
       "    .dataframe thead th {\n",
       "        text-align: right;\n",
       "    }\n",
       "</style>\n",
       "<table border=\"1\" class=\"dataframe\">\n",
       "  <thead>\n",
       "    <tr style=\"text-align: right;\">\n",
       "      <th></th>\n",
       "      <th>title</th>\n",
       "      <th>label</th>\n",
       "    </tr>\n",
       "  </thead>\n",
       "  <tbody>\n",
       "    <tr>\n",
       "      <th>0</th>\n",
       "      <td>\"한섬, 업황 회복으로 실적 모멘텀 지속\"...비중확대는 DSR무관 야호스탁 상품으로</td>\n",
       "      <td>3</td>\n",
       "    </tr>\n",
       "    <tr>\n",
       "      <th>1</th>\n",
       "      <td>데브시스터즈 1분기 영업이익 94억원…작년 동기 대비 60.2% 하락</td>\n",
       "      <td>0</td>\n",
       "    </tr>\n",
       "    <tr>\n",
       "      <th>2</th>\n",
       "      <td>\"호텔·상가 리츠, 리오프닝 기대\"...대비는 DSR무관 골드스탁 재원으로</td>\n",
       "      <td>1</td>\n",
       "    </tr>\n",
       "    <tr>\n",
       "      <th>3</th>\n",
       "      <td>파멥신, 제프리스 헬스케어 컨퍼런스 초청 참석</td>\n",
       "      <td>3</td>\n",
       "    </tr>\n",
       "    <tr>\n",
       "      <th>4</th>\n",
       "      <td>한화자산운용, 세계 최초 대체자산 전반에 투자하는 ETF 상장</td>\n",
       "      <td>3</td>\n",
       "    </tr>\n",
       "    <tr>\n",
       "      <th>...</th>\n",
       "      <td>...</td>\n",
       "      <td>...</td>\n",
       "    </tr>\n",
       "    <tr>\n",
       "      <th>11046</th>\n",
       "      <td>[코스피] 11.34p(0.35%) 내린 3,232.70(장종료)</td>\n",
       "      <td>0</td>\n",
       "    </tr>\n",
       "    <tr>\n",
       "      <th>11047</th>\n",
       "      <td>[코스닥] 6.19p(0.59%) 내린 1,043.64(장종료)</td>\n",
       "      <td>0</td>\n",
       "    </tr>\n",
       "    <tr>\n",
       "      <th>11048</th>\n",
       "      <td>미래에셋자산운용, 글로벌 테마형 ETF 신규 상장 이벤트</td>\n",
       "      <td>3</td>\n",
       "    </tr>\n",
       "    <tr>\n",
       "      <th>11049</th>\n",
       "      <td>메디아나, 2분기 영업익 18.5억원…2분기 연속 흑자 행진</td>\n",
       "      <td>1</td>\n",
       "    </tr>\n",
       "    <tr>\n",
       "      <th>11050</th>\n",
       "      <td>두산중공업, 미 뉴스케일파워에 추가 투자…소형모듈원전 사업 협력 강화</td>\n",
       "      <td>3</td>\n",
       "    </tr>\n",
       "  </tbody>\n",
       "</table>\n",
       "<p>11051 rows × 2 columns</p>\n",
       "</div>"
      ],
      "text/plain": [
       "                                                 title  label\n",
       "0      \"한섬, 업황 회복으로 실적 모멘텀 지속\"...비중확대는 DSR무관 야호스탁 상품으로      3\n",
       "1              데브시스터즈 1분기 영업이익 94억원…작년 동기 대비 60.2% 하락       0\n",
       "2            \"호텔·상가 리츠, 리오프닝 기대\"...대비는 DSR무관 골드스탁 재원으로      1\n",
       "3                            파멥신, 제프리스 헬스케어 컨퍼런스 초청 참석      3\n",
       "4                   한화자산운용, 세계 최초 대체자산 전반에 투자하는 ETF 상장      3\n",
       "...                                                ...    ...\n",
       "11046             [코스피] 11.34p(0.35%) 내린 3,232.70(장종료)      0\n",
       "11047              [코스닥] 6.19p(0.59%) 내린 1,043.64(장종료)      0\n",
       "11048                  미래에셋자산운용, 글로벌 테마형 ETF 신규 상장 이벤트      3\n",
       "11049                메디아나, 2분기 영업익 18.5억원…2분기 연속 흑자 행진      1\n",
       "11050           두산중공업, 미 뉴스케일파워에 추가 투자…소형모듈원전 사업 협력 강화      3\n",
       "\n",
       "[11051 rows x 2 columns]"
      ]
     },
     "execution_count": 183,
     "metadata": {},
     "output_type": "execute_result"
    }
   ],
   "source": [
    "news_title"
   ]
  },
  {
   "cell_type": "code",
   "execution_count": 184,
   "id": "5f036e4d",
   "metadata": {},
   "outputs": [
    {
     "data": {
      "text/html": [
       "<div>\n",
       "<style scoped>\n",
       "    .dataframe tbody tr th:only-of-type {\n",
       "        vertical-align: middle;\n",
       "    }\n",
       "\n",
       "    .dataframe tbody tr th {\n",
       "        vertical-align: top;\n",
       "    }\n",
       "\n",
       "    .dataframe thead th {\n",
       "        text-align: right;\n",
       "    }\n",
       "</style>\n",
       "<table border=\"1\" class=\"dataframe\">\n",
       "  <thead>\n",
       "    <tr style=\"text-align: right;\">\n",
       "      <th></th>\n",
       "      <th>title</th>\n",
       "    </tr>\n",
       "    <tr>\n",
       "      <th>label</th>\n",
       "      <th></th>\n",
       "    </tr>\n",
       "  </thead>\n",
       "  <tbody>\n",
       "    <tr>\n",
       "      <th>0</th>\n",
       "      <td>1994</td>\n",
       "    </tr>\n",
       "    <tr>\n",
       "      <th>1</th>\n",
       "      <td>3029</td>\n",
       "    </tr>\n",
       "    <tr>\n",
       "      <th>3</th>\n",
       "      <td>6028</td>\n",
       "    </tr>\n",
       "  </tbody>\n",
       "</table>\n",
       "</div>"
      ],
      "text/plain": [
       "       title\n",
       "label       \n",
       "0       1994\n",
       "1       3029\n",
       "3       6028"
      ]
     },
     "execution_count": 184,
     "metadata": {},
     "output_type": "execute_result"
    }
   ],
   "source": [
    "news_title.groupby(by='label').count()"
   ]
  },
  {
   "cell_type": "code",
   "execution_count": 185,
   "id": "39074f7c",
   "metadata": {},
   "outputs": [],
   "source": [
    "# 전처리한 데이터 csv 파일로 저장 \n",
    "news_title.to_csv('22_news_title.csv')"
   ]
  },
  {
   "cell_type": "code",
   "execution_count": null,
   "id": "e3c0dc2a",
   "metadata": {},
   "outputs": [],
   "source": []
  },
  {
   "cell_type": "code",
   "execution_count": null,
   "id": "7948db64",
   "metadata": {},
   "outputs": [],
   "source": []
  }
 ],
 "metadata": {
  "kernelspec": {
   "display_name": "tensor01",
   "language": "python",
   "name": "tensor01"
  },
  "language_info": {
   "codemirror_mode": {
    "name": "ipython",
    "version": 3
   },
   "file_extension": ".py",
   "mimetype": "text/x-python",
   "name": "python",
   "nbconvert_exporter": "python",
   "pygments_lexer": "ipython3",
   "version": "3.8.0"
  },
  "varInspector": {
   "cols": {
    "lenName": 16,
    "lenType": 16,
    "lenVar": 40
   },
   "kernels_config": {
    "python": {
     "delete_cmd_postfix": "",
     "delete_cmd_prefix": "del ",
     "library": "var_list.py",
     "varRefreshCmd": "print(var_dic_list())"
    },
    "r": {
     "delete_cmd_postfix": ") ",
     "delete_cmd_prefix": "rm(",
     "library": "var_list.r",
     "varRefreshCmd": "cat(var_dic_list()) "
    }
   },
   "types_to_exclude": [
    "module",
    "function",
    "builtin_function_or_method",
    "instance",
    "_Feature"
   ],
   "window_display": false
  }
 },
 "nbformat": 4,
 "nbformat_minor": 5
}
