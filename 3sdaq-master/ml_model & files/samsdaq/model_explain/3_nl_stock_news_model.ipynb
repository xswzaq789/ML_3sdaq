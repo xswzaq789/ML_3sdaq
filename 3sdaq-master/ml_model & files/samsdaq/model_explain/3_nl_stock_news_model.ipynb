{
 "cells": [
  {
   "cell_type": "markdown",
   "id": "a32e4ead",
   "metadata": {},
   "source": [
    "##### 필요 라이브러리\n",
    "\n",
    " - java 1.7 이상필요(SQL 수업시 이미 설치완료됨 ) \n",
    " - pip install tensorflow 텐서플로우 \n",
    " - pip install gensim 젠심 \n",
    " - pip install scikit-learn \n",
    " - pip install jupyter notebook\n",
    " - pip install nltk \n",
    "    -> python 접속 후 \n",
    "     - import nltk  \n",
    "     - nltk.download() \n",
    "    : 약 1기가정도 데이터 다운로드 화면 나옴 \n",
    "\n",
    " - pip install kss (한국어 문장토큰화)\n",
    "\n",
    "\n",
    "- pip install konlpy\n",
    "  - 형태소 분석기\n",
    "     - from konlpy.tag import Okt\n",
    "     - from konlpy.tag import Kkma\n",
    "\n",
    "     - okt = Okt() \n",
    "     - kkma = Kkma()\n",
    "\n",
    "    ** mecab 형태소 분석기가 성능 및 처리속도에서 최고이나 설치하기 난해함 "
   ]
  },
  {
   "cell_type": "code",
   "execution_count": 7,
   "id": "8d867bf0",
   "metadata": {},
   "outputs": [],
   "source": [
    "import re\n",
    "import pandas as pd\n",
    "import numpy as np\n",
    "import matplotlib.pyplot as plt\n",
    "import urllib.request\n",
    "from collections import Counter \n",
    "from konlpy.tag import Okt\n",
    "from sklearn.model_selection import train_test_split\n"
   ]
  },
  {
   "cell_type": "code",
   "execution_count": 8,
   "id": "d8a8616a",
   "metadata": {},
   "outputs": [],
   "source": [
    "from tensorflow.keras.preprocessing.text import Tokenizer\n",
    "from tensorflow.keras.preprocessing.sequence import pad_sequences"
   ]
  },
  {
   "cell_type": "code",
   "execution_count": 9,
   "id": "1cbf63ed",
   "metadata": {},
   "outputs": [],
   "source": [
    "# 뉴스분석 가져오기\n",
    "total_data = pd.read_csv('c:/users/crid2/nl_test/22_news_title.csv')"
   ]
  },
  {
   "cell_type": "code",
   "execution_count": 10,
   "id": "350fcc74",
   "metadata": {},
   "outputs": [
    {
     "data": {
      "text/html": [
       "<div>\n",
       "<style scoped>\n",
       "    .dataframe tbody tr th:only-of-type {\n",
       "        vertical-align: middle;\n",
       "    }\n",
       "\n",
       "    .dataframe tbody tr th {\n",
       "        vertical-align: top;\n",
       "    }\n",
       "\n",
       "    .dataframe thead th {\n",
       "        text-align: right;\n",
       "    }\n",
       "</style>\n",
       "<table border=\"1\" class=\"dataframe\">\n",
       "  <thead>\n",
       "    <tr style=\"text-align: right;\">\n",
       "      <th></th>\n",
       "      <th>title</th>\n",
       "      <th>label</th>\n",
       "    </tr>\n",
       "  </thead>\n",
       "  <tbody>\n",
       "    <tr>\n",
       "      <th>1</th>\n",
       "      <td>데브시스터즈 1분기 영업이익 94억원…작년 동기 대비 60.2% 하락</td>\n",
       "      <td>0</td>\n",
       "    </tr>\n",
       "    <tr>\n",
       "      <th>2</th>\n",
       "      <td>\"호텔·상가 리츠, 리오프닝 기대\"...대비는 DSR무관 골드스탁 재원으로</td>\n",
       "      <td>1</td>\n",
       "    </tr>\n",
       "    <tr>\n",
       "      <th>6</th>\n",
       "      <td>동진쎄미켐 1분기 영업이익 471억원…작년 동기 대비 64.8% 상승</td>\n",
       "      <td>1</td>\n",
       "    </tr>\n",
       "    <tr>\n",
       "      <th>9</th>\n",
       "      <td>\"SK가스, 1분기 실적 기대치 상회\"...투자는 DSR무관 야호스탁 자금으로</td>\n",
       "      <td>1</td>\n",
       "    </tr>\n",
       "    <tr>\n",
       "      <th>10</th>\n",
       "      <td>\"한국전력 제외한 코스피 기업 올해 영업이익 15% 증가\"</td>\n",
       "      <td>1</td>\n",
       "    </tr>\n",
       "    <tr>\n",
       "      <th>...</th>\n",
       "      <td>...</td>\n",
       "      <td>...</td>\n",
       "    </tr>\n",
       "    <tr>\n",
       "      <th>11043</th>\n",
       "      <td>[클릭! 해외증시 이 종목] 코로나 재확산에 '미국판 배민' 도어대시 반등</td>\n",
       "      <td>1</td>\n",
       "    </tr>\n",
       "    <tr>\n",
       "      <th>11045</th>\n",
       "      <td>다우존스30 끌어내린 '보잉' vs 치솟는 버진갤럭틱</td>\n",
       "      <td>0</td>\n",
       "    </tr>\n",
       "    <tr>\n",
       "      <th>11046</th>\n",
       "      <td>[코스피] 11.34p(0.35%) 내린 3,232.70(장종료)</td>\n",
       "      <td>0</td>\n",
       "    </tr>\n",
       "    <tr>\n",
       "      <th>11047</th>\n",
       "      <td>[코스닥] 6.19p(0.59%) 내린 1,043.64(장종료)</td>\n",
       "      <td>0</td>\n",
       "    </tr>\n",
       "    <tr>\n",
       "      <th>11049</th>\n",
       "      <td>메디아나, 2분기 영업익 18.5억원…2분기 연속 흑자 행진</td>\n",
       "      <td>1</td>\n",
       "    </tr>\n",
       "  </tbody>\n",
       "</table>\n",
       "<p>5023 rows × 2 columns</p>\n",
       "</div>"
      ],
      "text/plain": [
       "                                             title  label\n",
       "1          데브시스터즈 1분기 영업이익 94억원…작년 동기 대비 60.2% 하락       0\n",
       "2        \"호텔·상가 리츠, 리오프닝 기대\"...대비는 DSR무관 골드스탁 재원으로      1\n",
       "6          동진쎄미켐 1분기 영업이익 471억원…작년 동기 대비 64.8% 상승       1\n",
       "9      \"SK가스, 1분기 실적 기대치 상회\"...투자는 DSR무관 야호스탁 자금으로      1\n",
       "10                \"한국전력 제외한 코스피 기업 올해 영업이익 15% 증가\"      1\n",
       "...                                            ...    ...\n",
       "11043    [클릭! 해외증시 이 종목] 코로나 재확산에 '미국판 배민' 도어대시 반등      1\n",
       "11045                다우존스30 끌어내린 '보잉' vs 치솟는 버진갤럭틱      0\n",
       "11046         [코스피] 11.34p(0.35%) 내린 3,232.70(장종료)      0\n",
       "11047          [코스닥] 6.19p(0.59%) 내린 1,043.64(장종료)      0\n",
       "11049            메디아나, 2분기 영업익 18.5억원…2분기 연속 흑자 행진      1\n",
       "\n",
       "[5023 rows x 2 columns]"
      ]
     },
     "execution_count": 10,
     "metadata": {},
     "output_type": "execute_result"
    }
   ],
   "source": [
    "# 생긴 인덱스 삭제 \n",
    "total_data = total_data.drop('Unnamed: 0' , axis=1)\n",
    "# 라벨 3만 삭제 \n",
    "label0_idx = total_data.index[(total_data['label'] == 3 )]\n",
    "total_data = total_data.drop(label0_idx , axis= 0 )\n",
    "\n",
    "\n",
    "total_data"
   ]
  },
  {
   "cell_type": "code",
   "execution_count": 11,
   "id": "9180b412",
   "metadata": {},
   "outputs": [
    {
     "name": "stdout",
     "output_type": "stream",
     "text": [
      "5023\n"
     ]
    },
    {
     "data": {
      "text/html": [
       "<div>\n",
       "<style scoped>\n",
       "    .dataframe tbody tr th:only-of-type {\n",
       "        vertical-align: middle;\n",
       "    }\n",
       "\n",
       "    .dataframe tbody tr th {\n",
       "        vertical-align: top;\n",
       "    }\n",
       "\n",
       "    .dataframe thead th {\n",
       "        text-align: right;\n",
       "    }\n",
       "</style>\n",
       "<table border=\"1\" class=\"dataframe\">\n",
       "  <thead>\n",
       "    <tr style=\"text-align: right;\">\n",
       "      <th></th>\n",
       "      <th>title</th>\n",
       "      <th>label</th>\n",
       "    </tr>\n",
       "  </thead>\n",
       "  <tbody>\n",
       "    <tr>\n",
       "      <th>1</th>\n",
       "      <td>데브시스터즈 1분기 영업이익 94억원…작년 동기 대비 60.2% 하락</td>\n",
       "      <td>0</td>\n",
       "    </tr>\n",
       "    <tr>\n",
       "      <th>2</th>\n",
       "      <td>\"호텔·상가 리츠, 리오프닝 기대\"...대비는 DSR무관 골드스탁 재원으로</td>\n",
       "      <td>1</td>\n",
       "    </tr>\n",
       "    <tr>\n",
       "      <th>6</th>\n",
       "      <td>동진쎄미켐 1분기 영업이익 471억원…작년 동기 대비 64.8% 상승</td>\n",
       "      <td>1</td>\n",
       "    </tr>\n",
       "    <tr>\n",
       "      <th>9</th>\n",
       "      <td>\"SK가스, 1분기 실적 기대치 상회\"...투자는 DSR무관 야호스탁 자금으로</td>\n",
       "      <td>1</td>\n",
       "    </tr>\n",
       "    <tr>\n",
       "      <th>10</th>\n",
       "      <td>\"한국전력 제외한 코스피 기업 올해 영업이익 15% 증가\"</td>\n",
       "      <td>1</td>\n",
       "    </tr>\n",
       "  </tbody>\n",
       "</table>\n",
       "</div>"
      ],
      "text/plain": [
       "                                          title  label\n",
       "1       데브시스터즈 1분기 영업이익 94억원…작년 동기 대비 60.2% 하락       0\n",
       "2     \"호텔·상가 리츠, 리오프닝 기대\"...대비는 DSR무관 골드스탁 재원으로      1\n",
       "6       동진쎄미켐 1분기 영업이익 471억원…작년 동기 대비 64.8% 상승       1\n",
       "9   \"SK가스, 1분기 실적 기대치 상회\"...투자는 DSR무관 야호스탁 자금으로      1\n",
       "10             \"한국전력 제외한 코스피 기업 올해 영업이익 15% 증가\"      1"
      ]
     },
     "execution_count": 11,
     "metadata": {},
     "output_type": "execute_result"
    }
   ],
   "source": [
    "print(len(total_data))\n",
    "total_data[:5]"
   ]
  },
  {
   "cell_type": "code",
   "execution_count": 12,
   "id": "15bb2985",
   "metadata": {},
   "outputs": [
    {
     "name": "stdout",
     "output_type": "stream",
     "text": [
      "총 샘플의 수  :  4976\n"
     ]
    }
   ],
   "source": [
    "total_data.drop_duplicates(subset=['title'], inplace = True )\n",
    "print('총 샘플의 수  : ' , len(total_data))\n",
    "\n",
    " # reviews 열에서 중복인 내용이 있다면 중복 제거"
   ]
  },
  {
   "cell_type": "code",
   "execution_count": 13,
   "id": "0038d0ba",
   "metadata": {},
   "outputs": [
    {
     "name": "stdout",
     "output_type": "stream",
     "text": [
      "False\n"
     ]
    }
   ],
   "source": [
    "print(total_data.isnull().values.any())"
   ]
  },
  {
   "cell_type": "code",
   "execution_count": 14,
   "id": "78b70e2e",
   "metadata": {},
   "outputs": [
    {
     "name": "stdout",
     "output_type": "stream",
     "text": [
      "훈련용 리뷰의 개수 :  3732\n",
      "테스트용 리뷰의 개수 :  1244\n"
     ]
    }
   ],
   "source": [
    "train_data, test_data = train_test_split(total_data, test_size= 0.25 , random_state = 42 )\n",
    "print( '훈련용 리뷰의 개수 : ' , len(train_data))\n",
    "print('테스트용 리뷰의 개수 : ' , len(test_data))"
   ]
  },
  {
   "cell_type": "code",
   "execution_count": 15,
   "id": "47f256ed",
   "metadata": {},
   "outputs": [
    {
     "data": {
      "text/plain": [
       "<AxesSubplot:>"
      ]
     },
     "execution_count": 15,
     "metadata": {},
     "output_type": "execute_result"
    },
    {
     "data": {
      "image/png": "[encoded data removed]",
      "text/plain": [
       "<Figure size 432x288 with 1 Axes>"
      ]
     },
     "metadata": {
      "needs_background": "light"
     },
     "output_type": "display_data"
    }
   ],
   "source": [
    "# 부정리뷰 감정리뷰 데이터셋이 고르게 분포함을 확인 \n",
    "train_data['label'].value_counts().plot(kind = 'bar')\n"
   ]
  },
  {
   "cell_type": "code",
   "execution_count": 16,
   "id": "39db94c3",
   "metadata": {},
   "outputs": [],
   "source": [
    "# 데이터 정제 정규식 한글제외한 나머지 모두 제거 "
   ]
  },
  {
   "cell_type": "code",
   "execution_count": 17,
   "id": "2790616f",
   "metadata": {},
   "outputs": [
    {
     "name": "stderr",
     "output_type": "stream",
     "text": [
      "C:\\Users\\crid2\\AppData\\Local\\Temp\\ipykernel_8288\\1314129026.py:1: FutureWarning: The default value of regex will change from True to False in a future version.\n",
      "  train_data['title'] = train_data['title'].str.replace(\"[^ㄱ-하-ㅣ가-힣]\", \"\")\n"
     ]
    }
   ],
   "source": [
    "train_data['title'] = train_data['title'].str.replace(\"[^ㄱ-하-ㅣ가-힣]\", \"\")"
   ]
  },
  {
   "cell_type": "code",
   "execution_count": 18,
   "id": "9abf9507",
   "metadata": {},
   "outputs": [
    {
     "name": "stdout",
     "output_type": "stream",
     "text": [
      "전처리 후 트레인용 샘플의 개수 : 3732\n"
     ]
    }
   ],
   "source": [
    "print('전처리 후 트레인용 샘플의 개수 :',len(train_data))"
   ]
  },
  {
   "cell_type": "code",
   "execution_count": 19,
   "id": "140a1a3d",
   "metadata": {},
   "outputs": [
    {
     "name": "stdout",
     "output_type": "stream",
     "text": [
      "title    0\n",
      "label    0\n",
      "dtype: int64\n"
     ]
    }
   ],
   "source": [
    "train_data['title'].replace('', np.nan , inplace=True)\n",
    "print(train_data.isnull().sum())"
   ]
  },
  {
   "cell_type": "code",
   "execution_count": 20,
   "id": "47a0fa9c",
   "metadata": {},
   "outputs": [
    {
     "name": "stderr",
     "output_type": "stream",
     "text": [
      "C:\\Users\\crid2\\AppData\\Local\\Temp\\ipykernel_8288\\736158387.py:2: FutureWarning: The default value of regex will change from True to False in a future version.\n",
      "  test_data['title'] = test_data['title'].str.replace(\"[^ㄱ-ㅎㅏ-ㅣ가-힣 ]\",\"\") # 정규 표현식 수행\n"
     ]
    },
    {
     "name": "stdout",
     "output_type": "stream",
     "text": [
      "전처리 후 테스트용 샘플의 개수 : 1244\n"
     ]
    }
   ],
   "source": [
    "test_data.drop_duplicates(subset = ['title'], inplace=True) # 중복 제거\n",
    "test_data['title'] = test_data['title'].str.replace(\"[^ㄱ-ㅎㅏ-ㅣ가-힣 ]\",\"\") # 정규 표현식 수행\n",
    "test_data['title'].replace('', np.nan, inplace=True) # 공백은 Null 값으로 변경\n",
    "test_data = test_data.dropna(how='any') # Null 값 제거\n",
    "print('전처리 후 테스트용 샘플의 개수 :',len(test_data))\n",
    "\n",
    "\n"
   ]
  },
  {
   "cell_type": "code",
   "execution_count": 21,
   "id": "2f879755",
   "metadata": {},
   "outputs": [],
   "source": [
    "### 토큰화"
   ]
  },
  {
   "cell_type": "code",
   "execution_count": 22,
   "id": "ea1ffe8f",
   "metadata": {},
   "outputs": [],
   "source": [
    "# 형태소 처리 라이브러리 정의 \n",
    "okt =  Okt()\n"
   ]
  },
  {
   "cell_type": "code",
   "execution_count": 23,
   "id": "a902b605",
   "metadata": {},
   "outputs": [
    {
     "name": "stdout",
     "output_type": "stream",
     "text": [
      "['와', '이런', '것', '도', '상품', '이라고', '하냐', '차라리', '내', '가', '붕어빵', '을', '만든는것이', '훨씬', '낫겠네', '!!!']\n"
     ]
    }
   ],
   "source": [
    "print(okt.morphs('와 이런것도 상품이라고 하냐 차라리 내가 붕어빵을 만든는것이 훨씬 낫겠네!!!'))"
   ]
  },
  {
   "cell_type": "code",
   "execution_count": 24,
   "id": "772d8a0c",
   "metadata": {},
   "outputs": [],
   "source": [
    "# 불용어 : 추가시 리스트에 추가\n",
    "stopwords = ['도', '는', '다', '의', '가', '이', '은', '한', '에', '하', '고', '을', '를', '인', '듯', '과', '와', '네', '들', '듯', '지', '임', '게']"
   ]
  },
  {
   "cell_type": "code",
   "execution_count": 25,
   "id": "3d8e86ab",
   "metadata": {},
   "outputs": [],
   "source": [
    "train_data['tokenized'] = train_data['title'].apply(okt.morphs)\n",
    "train_data['tokenized'] = train_data['tokenized'].apply(lambda x: [item for item in x if item not in stopwords])"
   ]
  },
  {
   "cell_type": "code",
   "execution_count": 26,
   "id": "301a6b3d",
   "metadata": {},
   "outputs": [],
   "source": [
    "test_data['tokenized'] = test_data['title'].apply(okt.morphs)\n",
    "test_data['tokenized'] = test_data['tokenized'].apply(lambda x: [item for item in x if item not in stopwords])"
   ]
  },
  {
   "cell_type": "code",
   "execution_count": 27,
   "id": "0039cc7d",
   "metadata": {},
   "outputs": [],
   "source": [
    "# 단어 길이 및 분포 확인하기 "
   ]
  },
  {
   "cell_type": "code",
   "execution_count": 28,
   "id": "27265873",
   "metadata": {},
   "outputs": [],
   "source": [
    "negative_words = np.hstack(train_data[train_data.label == 0]['tokenized'].values)\n",
    "positive_words = np.hstack(train_data[train_data.label == 1]['tokenized'].values)\n"
   ]
  },
  {
   "cell_type": "code",
   "execution_count": 29,
   "id": "41234dcd",
   "metadata": {},
   "outputs": [
    {
     "name": "stdout",
     "output_type": "stream",
     "text": [
      "[('하락', 670), ('코스피', 364), ('장', 253), ('영업', 249), ('분기', 204), ('뉴욕증시', 172), ('이익', 171), ('작년', 170), ('대비', 159), ('내', 150), ('린', 147), ('종료', 147), ('코스닥', 134), ('내린', 134), ('개장', 133), ('종합', 133), ('대', 130), ('우려', 121), ('출발', 101), ('억원', 96)]\n"
     ]
    }
   ],
   "source": [
    "negative_word_count = Counter(negative_words)\n",
    "print(negative_word_count.most_common(20))"
   ]
  },
  {
   "cell_type": "code",
   "execution_count": 30,
   "id": "2a3f65d6",
   "metadata": {},
   "outputs": [
    {
     "name": "stdout",
     "output_type": "stream",
     "text": [
      "[('상승', 961), ('영업', 589), ('분기', 494), ('이익', 490), ('작년', 443), ('대비', 400), ('오른', 339), ('코스피', 333), ('최대', 291), ('천억원', 250), ('종합', 244), ('으로', 234), ('장', 221), ('대', 214), ('실적', 191), ('동기', 184), ('코스닥', 180), ('연', 174), ('억원', 173), ('매수', 168)]\n"
     ]
    }
   ],
   "source": [
    "positive_word_count = Counter(positive_words)\n",
    "print(positive_word_count.most_common(20))"
   ]
  },
  {
   "cell_type": "code",
   "execution_count": 31,
   "id": "fb25c65e",
   "metadata": {},
   "outputs": [],
   "source": [
    "# 시각화 "
   ]
  },
  {
   "cell_type": "code",
   "execution_count": 32,
   "id": "24405bef",
   "metadata": {},
   "outputs": [
    {
     "name": "stdout",
     "output_type": "stream",
     "text": [
      "긍정 리뷰의 평균 길이 : 9.064958020327\n",
      "부정 리뷰의 평균 길이 : 8.370319945541185\n"
     ]
    },
    {
     "data": {
      "image/png": "[encoded data removed]",
      "text/plain": [
       "<Figure size 720x360 with 2 Axes>"
      ]
     },
     "metadata": {
      "needs_background": "light"
     },
     "output_type": "display_data"
    }
   ],
   "source": [
    "fig,(ax1,ax2) = plt.subplots(1,2,figsize=(10,5))\n",
    "text_len = train_data[train_data['label']==1]['tokenized'].map(lambda x: len(x))\n",
    "ax1.hist(text_len, color='red')\n",
    "ax1.set_title('Positive Reviews')\n",
    "ax1.set_xlabel('length of samples')\n",
    "ax1.set_ylabel('number of samples')\n",
    "print('긍정 리뷰의 평균 길이 :', np.mean(text_len))\n",
    "\n",
    "text_len = train_data[train_data['label']==0]['tokenized'].map(lambda x: len(x))\n",
    "ax2.hist(text_len, color='blue')\n",
    "ax2.set_title('Negative Reviews')\n",
    "fig.suptitle('Words in texts')\n",
    "ax2.set_xlabel('length of samples')\n",
    "ax2.set_ylabel('number of samples')\n",
    "print('부정 리뷰의 평균 길이 :', np.mean(text_len))\n",
    "\n",
    "plt.show()"
   ]
  },
  {
   "cell_type": "code",
   "execution_count": 33,
   "id": "62f49fc3",
   "metadata": {},
   "outputs": [],
   "source": [
    "X_train = train_data['tokenized'].values\n",
    "y_train = train_data['label'].values\n",
    "X_test = test_data['tokenized'].values\n",
    "y_test = test_data['label'].values"
   ]
  },
  {
   "cell_type": "code",
   "execution_count": null,
   "id": "a59687e1",
   "metadata": {},
   "outputs": [],
   "source": []
  },
  {
   "cell_type": "code",
   "execution_count": 34,
   "id": "c746d368",
   "metadata": {},
   "outputs": [],
   "source": [
    "tokenizer = Tokenizer()\n",
    "tokenizer.fit_on_texts(X_train)\n"
   ]
  },
  {
   "cell_type": "code",
   "execution_count": 35,
   "id": "f07390aa",
   "metadata": {},
   "outputs": [
    {
     "name": "stdout",
     "output_type": "stream",
     "text": [
      "단어 집합(vocabulary)의 크기 : 4006\n",
      "등장 빈도가 1번 이하인 희귀 단어의 수: 2252\n",
      "단어 집합에서 희귀 단어의 비율: 56.21567648527209\n",
      "전체 등장 빈도에서 희귀 단어 등장 빈도 비율: 6.863761048460836\n"
     ]
    }
   ],
   "source": [
    "threshold = 2\n",
    "total_cnt = len(tokenizer.word_index) # 단어의 수\n",
    "rare_cnt = 0 # 등장 빈도수가 threshold보다 작은 단어의 개수를 카운트\n",
    "total_freq = 0 # 훈련 데이터의 전체 단어 빈도수 총 합\n",
    "rare_freq = 0 # 등장 빈도수가 threshold보다 작은 단어의 등장 빈도수의 총 합\n",
    "\n",
    "# 단어와 빈도수의 쌍(pair)을 key와 value로 받는다.\n",
    "for key, value in tokenizer.word_counts.items():\n",
    "    total_freq = total_freq + value\n",
    "\n",
    "    # 단어의 등장 빈도수가 threshold보다 작으면\n",
    "    if(value < threshold):\n",
    "        rare_cnt = rare_cnt + 1\n",
    "        rare_freq = rare_freq + value\n",
    "\n",
    "print('단어 집합(vocabulary)의 크기 :',total_cnt)\n",
    "print('등장 빈도가 %s번 이하인 희귀 단어의 수: %s'%(threshold - 1, rare_cnt))\n",
    "print(\"단어 집합에서 희귀 단어의 비율:\", (rare_cnt / total_cnt)*100)\n",
    "print(\"전체 등장 빈도에서 희귀 단어 등장 빈도 비율:\", (rare_freq / total_freq)*100)"
   ]
  },
  {
   "cell_type": "code",
   "execution_count": 36,
   "id": "cca34069",
   "metadata": {},
   "outputs": [
    {
     "name": "stdout",
     "output_type": "stream",
     "text": [
      "단어 집합의 크기 : 1756\n"
     ]
    }
   ],
   "source": [
    "# 전체 단어 개수 중 빈도수 2이하인 단어 개수는 제거.\n",
    "# 0번 패딩 토큰과 1번 OOV 토큰을 고려하여 +2\n",
    "vocab_size = total_cnt - rare_cnt + 2\n",
    "print('단어 집합의 크기 :',vocab_size)"
   ]
  },
  {
   "cell_type": "code",
   "execution_count": 37,
   "id": "37120095",
   "metadata": {},
   "outputs": [],
   "source": [
    "## 재 토큰화 \n",
    "tokenizer = Tokenizer(vocab_size, oov_token = 'OOV') \n",
    "tokenizer.fit_on_texts(X_train)\n",
    "X_train = tokenizer.texts_to_sequences(X_train)\n",
    "X_test = tokenizer.texts_to_sequences(X_test)"
   ]
  },
  {
   "cell_type": "code",
   "execution_count": 38,
   "id": "e4070a96",
   "metadata": {},
   "outputs": [
    {
     "name": "stdout",
     "output_type": "stream",
     "text": [
      "[[5, 38, 42, 10, 19], [209, 261, 1, 66, 6, 57, 48, 78, 958, 959], [245, 8, 3, 7, 14, 960, 94, 2]]\n"
     ]
    }
   ],
   "source": [
    "print(X_train[:3])"
   ]
  },
  {
   "cell_type": "code",
   "execution_count": 39,
   "id": "61692681",
   "metadata": {},
   "outputs": [
    {
     "name": "stdout",
     "output_type": "stream",
     "text": [
      "[[15, 13, 10, 19], [231, 4, 3, 46, 14, 156, 725, 43, 16, 11], [868, 4, 3, 46, 114, 275, 34, 89, 241, 11]]\n"
     ]
    }
   ],
   "source": [
    "print(X_test[:3])"
   ]
  },
  {
   "cell_type": "code",
   "execution_count": 40,
   "id": "9c8f5c04",
   "metadata": {},
   "outputs": [
    {
     "name": "stdout",
     "output_type": "stream",
     "text": [
      "리뷰의 최대 길이 : 25\n",
      "리뷰의 평균 길이 : 8.791532690246516\n"
     ]
    },
    {
     "data": {
      "image/png": "[encoded data removed]",
      "text/plain": [
       "<Figure size 432x288 with 1 Axes>"
      ]
     },
     "metadata": {
      "needs_background": "light"
     },
     "output_type": "display_data"
    }
   ],
   "source": [
    "# 패딩 \n",
    "\n",
    "print('리뷰의 최대 길이 :',max(len(review) for review in X_train))\n",
    "print('리뷰의 평균 길이 :',sum(map(len, X_train))/len(X_train))\n",
    "plt.hist([len(review) for review in X_train], bins=50)\n",
    "plt.xlabel('length of samples')\n",
    "plt.ylabel('number of samples')\n",
    "plt.show()\n"
   ]
  },
  {
   "cell_type": "code",
   "execution_count": 41,
   "id": "ff884a95",
   "metadata": {},
   "outputs": [],
   "source": [
    "def below_threshold_len(max_len, nested_list):\n",
    "  count = 0\n",
    "  for sentence in nested_list:\n",
    "    if(len(sentence) <= max_len):\n",
    "        count = count + 1\n",
    "  print('전체 샘플 중 길이가 %s 이하인 샘플의 비율: %s'%(max_len, (count / len(nested_list))*100))"
   ]
  },
  {
   "cell_type": "code",
   "execution_count": 42,
   "id": "7f368068",
   "metadata": {},
   "outputs": [
    {
     "name": "stdout",
     "output_type": "stream",
     "text": [
      "전체 샘플 중 길이가 25 이하인 샘플의 비율: 100.0\n"
     ]
    }
   ],
   "source": [
    "max_len = 25\n",
    "below_threshold_len(max_len, X_train)"
   ]
  },
  {
   "cell_type": "code",
   "execution_count": 43,
   "id": "d48d1961",
   "metadata": {},
   "outputs": [],
   "source": [
    "# 리뷰길이 27으로 패딩 \n",
    "\n",
    "X_train = pad_sequences(X_train, maxlen=max_len)\n",
    "X_test = pad_sequences(X_test, maxlen=max_len)"
   ]
  },
  {
   "cell_type": "code",
   "execution_count": 44,
   "id": "011748b5",
   "metadata": {},
   "outputs": [],
   "source": [
    "# 자연어 딥러닝 모델 "
   ]
  },
  {
   "cell_type": "code",
   "execution_count": 45,
   "id": "4476e86d",
   "metadata": {},
   "outputs": [],
   "source": [
    "from tensorflow.keras.layers import Embedding, Dense, GRU\n",
    "from tensorflow.keras.models import Sequential\n",
    "from tensorflow.keras.models import load_model\n",
    "from tensorflow.keras.callbacks import EarlyStopping, ModelCheckpoint\n"
   ]
  },
  {
   "cell_type": "code",
   "execution_count": 46,
   "id": "3f11990b",
   "metadata": {},
   "outputs": [
    {
     "name": "stdout",
     "output_type": "stream",
     "text": [
      "Epoch 1/20\n",
      "41/47 [=========================>....] - ETA: 0s - loss: 0.4251 - acc: 0.8243\n",
      "Epoch 00001: val_acc improved from -inf to 0.96386, saving model to test01_model.h5\n",
      "47/47 [==============================] - 5s 24ms/step - loss: 0.3904 - acc: 0.8425 - val_loss: 0.1583 - val_acc: 0.9639\n",
      "Epoch 2/20\n",
      "45/47 [===========================>..] - ETA: 0s - loss: 0.0587 - acc: 0.9826\n",
      "Epoch 00002: val_acc improved from 0.96386 to 0.97456, saving model to test01_model.h5\n",
      "47/47 [==============================] - 1s 12ms/step - loss: 0.0569 - acc: 0.9832 - val_loss: 0.0765 - val_acc: 0.9746\n",
      "Epoch 3/20\n",
      "46/47 [============================>.] - ETA: 0s - loss: 0.0214 - acc: 0.9929\n",
      "Epoch 00003: val_acc did not improve from 0.97456\n",
      "47/47 [==============================] - 1s 13ms/step - loss: 0.0221 - acc: 0.9926 - val_loss: 0.0871 - val_acc: 0.9625\n",
      "Epoch 4/20\n",
      "47/47 [==============================] - ETA: 0s - loss: 0.0121 - acc: 0.9966\n",
      "Epoch 00004: val_acc did not improve from 0.97456\n",
      "47/47 [==============================] - 1s 11ms/step - loss: 0.0121 - acc: 0.9966 - val_loss: 0.0995 - val_acc: 0.9719\n",
      "Epoch 5/20\n",
      "47/47 [==============================] - ETA: 0s - loss: 0.0049 - acc: 0.9990\n",
      "Epoch 00005: val_acc did not improve from 0.97456\n",
      "47/47 [==============================] - 1s 11ms/step - loss: 0.0049 - acc: 0.9990 - val_loss: 0.1314 - val_acc: 0.9746\n",
      "Epoch 6/20\n",
      "47/47 [==============================] - ETA: 0s - loss: 0.0086 - acc: 0.9987\n",
      "Epoch 00006: val_acc did not improve from 0.97456\n",
      "47/47 [==============================] - 1s 11ms/step - loss: 0.0086 - acc: 0.9987 - val_loss: 0.1727 - val_acc: 0.9719\n",
      "Epoch 00006: early stopping\n"
     ]
    }
   ],
   "source": [
    "embedding_dim = 100\n",
    "hidden_units = 128\n",
    "\n",
    "model = Sequential()\n",
    "model.add(Embedding(vocab_size, embedding_dim))\n",
    "model.add(GRU(hidden_units))\n",
    "model.add(Dense(1, activation='sigmoid')) # 이진분류시 1 , sigmoid \n",
    "\n",
    "\n",
    "\n",
    "es = EarlyStopping(monitor='val_loss', mode='min', verbose=1, patience=4)\n",
    "mc = ModelCheckpoint('test01_model.h5', monitor='val_acc', mode='max', verbose=1, save_best_only=True)\n",
    "\n",
    "model.compile(optimizer='rmsprop', loss='binary_crossentropy', metrics=['acc'])\n",
    "history = model.fit(X_train, y_train, epochs=20, callbacks=[es, mc], batch_size=64, validation_split=0.2)"
   ]
  },
  {
   "cell_type": "code",
   "execution_count": 47,
   "id": "d7a8238c",
   "metadata": {},
   "outputs": [
    {
     "name": "stdout",
     "output_type": "stream",
     "text": [
      "39/39 [==============================] - 1s 4ms/step - loss: 0.0345 - acc: 0.9912\n",
      "\n",
      " 테스트 정확도: 0.9912\n"
     ]
    }
   ],
   "source": [
    "loaded_model = load_model('test01_model.h5')\n",
    "print(\"\\n 테스트 정확도: %.4f\" % (loaded_model.evaluate(X_test, y_test)[1]))"
   ]
  },
  {
   "cell_type": "code",
   "execution_count": 48,
   "id": "847bf962",
   "metadata": {},
   "outputs": [],
   "source": [
    "## 리뷰예측하기\n",
    "def sentiment_predict(new_sentence):\n",
    "  new_sentence = new_sentence.replace(\"↑\", \"상승\").replace(\"↓\", \"하락\")  \n",
    "  new_sentence = re.sub(r'[^ㄱ-ㅎㅏ-ㅣ가-힣 ]','', new_sentence)\n",
    "  new_sentence = okt.morphs(new_sentence)\n",
    "  new_sentence = [word for word in new_sentence if not word in stopwords]\n",
    "  encoded = tokenizer.texts_to_sequences([new_sentence])\n",
    "  pad_new = pad_sequences(encoded, maxlen = max_len)\n",
    "\n",
    "  score = float(loaded_model.predict(pad_new))\n",
    "  if(score > 0.5):\n",
    "    print(\"{:.2f}% 확률로 긍정 리뷰입니다.\".format(score * 100))\n",
    "  else:\n",
    "    print(\"{:.2f}% 확률로 부정 리뷰입니다.\".format((1 - score) * 100))"
   ]
  },
  {
   "cell_type": "code",
   "execution_count": 49,
   "id": "66c9cc04",
   "metadata": {},
   "outputs": [
    {
     "name": "stdout",
     "output_type": "stream",
     "text": [
      "99.66% 확률로 부정 리뷰입니다.\n"
     ]
    }
   ],
   "source": [
    " sentiment_predict('한온시스템, 전기차 핵심 부품사 치고는 협상력 부족…목표가↓')   "
   ]
  },
  {
   "cell_type": "code",
   "execution_count": 50,
   "id": "fabc6e32",
   "metadata": {},
   "outputs": [
    {
     "name": "stdout",
     "output_type": "stream",
     "text": [
      "99.66% 확률로 부정 리뷰입니다.\n"
     ]
    }
   ],
   "source": [
    " sentiment_predict('한온시스템, 전기차 핵심 부품사 치고는 협상력 부족…목표가 하락')"
   ]
  },
  {
   "cell_type": "code",
   "execution_count": null,
   "id": "b8532e3f",
   "metadata": {},
   "outputs": [],
   "source": []
  },
  {
   "cell_type": "code",
   "execution_count": null,
   "id": "fe1bcca6",
   "metadata": {},
   "outputs": [],
   "source": []
  },
  {
   "cell_type": "code",
   "execution_count": null,
   "id": "9797e15a",
   "metadata": {},
   "outputs": [],
   "source": []
  }
 ],
 "metadata": {
  "kernelspec": {
   "display_name": "tensor01",
   "language": "python",
   "name": "tensor01"
  },
  "language_info": {
   "codemirror_mode": {
    "name": "ipython",
    "version": 3
   },
   "file_extension": ".py",
   "mimetype": "text/x-python",
   "name": "python",
   "nbconvert_exporter": "python",
   "pygments_lexer": "ipython3",
   "version": "3.8.0"
  },
  "varInspector": {
   "cols": {
    "lenName": 16,
    "lenType": 16,
    "lenVar": 40
   },
   "kernels_config": {
    "python": {
     "delete_cmd_postfix": "",
     "delete_cmd_prefix": "del ",
     "library": "var_list.py",
     "varRefreshCmd": "print(var_dic_list())"
    },
    "r": {
     "delete_cmd_postfix": ") ",
     "delete_cmd_prefix": "rm(",
     "library": "var_list.r",
     "varRefreshCmd": "cat(var_dic_list()) "
    }
   },
   "types_to_exclude": [
    "module",
    "function",
    "builtin_function_or_method",
    "instance",
    "_Feature"
   ],
   "window_display": false
  }
 },
 "nbformat": 4,
 "nbformat_minor": 5
}
