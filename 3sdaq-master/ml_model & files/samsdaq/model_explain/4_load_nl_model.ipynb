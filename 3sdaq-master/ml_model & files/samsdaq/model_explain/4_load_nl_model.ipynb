{
 "cells": [
  {
   "cell_type": "code",
   "execution_count": 69,
   "id": "8d867bf0",
   "metadata": {},
   "outputs": [],
   "source": [
    "import re\n",
    "import pandas as pd\n",
    "import numpy as np\n",
    "from collections import Counter \n",
    "from konlpy.tag import Okt\n",
    "\n",
    "from tensorflow.keras.preprocessing.text import Tokenizer\n",
    "from tensorflow.keras.preprocessing.sequence import pad_sequences\n",
    "\n",
    "from tensorflow.keras.layers import Embedding, Dense, GRU\n",
    "from tensorflow.keras.models import Sequential\n",
    "from tensorflow.keras.models import load_model"
   ]
  },
  {
   "cell_type": "code",
   "execution_count": 70,
   "id": "b262a05e",
   "metadata": {},
   "outputs": [],
   "source": [
    "# 기존 X_train csv 파일 전환 후 로드시 X_train.csv 파일로 틀어짐 전처리 \n",
    "X_train = pd.read_csv('X_train.csv')\n",
    "X_train = X_train.drop('Unnamed: 0' , axis=1)\n",
    "X_train2 = X_train[\"tokenized\"].squeeze()\n",
    "X_train3 = X_train2.values\n",
    "X_train4 = []\n",
    "for str in X_train3:\n",
    "    str = str.replace(\"[\", \"\").replace(\"]\", \"\").replace(\" '\", \"\").replace(\"'\", \"\")\n",
    "    X_train4.append(str.split(\",\"))\n",
    "X_train = X_train4.copy()"
   ]
  },
  {
   "cell_type": "code",
   "execution_count": 71,
   "id": "453042c7",
   "metadata": {},
   "outputs": [],
   "source": [
    "tokenizer = Tokenizer()\n",
    "tokenizer.fit_on_texts(X_train)"
   ]
  },
  {
   "cell_type": "code",
   "execution_count": 72,
   "id": "37120095",
   "metadata": {},
   "outputs": [],
   "source": [
    "## 재 토큰화  # vocab_szie 1756\n",
    "tokenizer = Tokenizer(1756, oov_token = 'OOV') \n",
    "tokenizer.fit_on_texts(X_train)\n",
    "X_train = tokenizer.texts_to_sequences(X_train)\n",
    "\n",
    "\n"
   ]
  },
  {
   "cell_type": "code",
   "execution_count": 73,
   "id": "886d7bb8",
   "metadata": {},
   "outputs": [],
   "source": [
    "# 리뷰길이 25으로 패딩 , max_len = 25 확인 \n",
    "X_train = pad_sequences(X_train, maxlen=25)"
   ]
  },
  {
   "cell_type": "code",
   "execution_count": 74,
   "id": "d48d1961",
   "metadata": {},
   "outputs": [],
   "source": [
    "# 모델로드\n",
    "loaded_model = load_model('test01_model.h5')"
   ]
  },
  {
   "cell_type": "code",
   "execution_count": null,
   "id": "847bf962",
   "metadata": {},
   "outputs": [],
   "source": [
    "## 리뷰예측하기\n",
    "# 형태소 처리 라이브러리 정의 \n",
    "okt =  Okt()\n",
    "# 불용어 : 추가시 리스트에 추가\n",
    "stopwords = ['도', '는', '다', '의', '가', '이', '은', '한', '에', '하', '고', '을', '를', '인', '듯', '과', '와', '네', '들', '듯', '지', '임', '게']\n",
    "\n",
    "def sentiment_predict(new_sentence):\n",
    "  new_sentence = new_sentence.replace(\"↑\", \"상승\").replace(\"↓\", \"하락\")\n",
    "  new_sentence = re.sub(r'[^ㄱ-ㅎㅏ-ㅣ가-힣 ]','', new_sentence)\n",
    "  new_sentence = okt.morphs(new_sentence)\n",
    "  new_sentence = [word for word in new_sentence if not word in stopwords]\n",
    "  encoded = tokenizer.texts_to_sequences([new_sentence])\n",
    "  pad_new = pad_sequences(encoded, maxlen = 25)\n",
    "\n",
    "  score = float(loaded_model.predict(pad_new))\n",
    "  if(score > 0.5):\n",
    "    print(\"{:.2f}% 확률로 긍정 리뷰입니다.\".format(score * 100))\n",
    "  else:\n",
    "    print(\"{:.2f}% 확률로 부정 리뷰입니다.\".format((1 - score) * 100))"
   ]
  },
  {
   "cell_type": "code",
   "execution_count": 75,
   "id": "6b0bba77",
   "metadata": {},
   "outputs": [
    {
     "name": "stdout",
     "output_type": "stream",
     "text": [
      "99.66% 확률로 부정 리뷰입니다.\n"
     ]
    }
   ],
   "source": [
    "sentiment_predict('제2의 리먼사태 루나코인사태에 증시 한때 하락')"
   ]
  },
  {
   "cell_type": "code",
   "execution_count": 79,
   "id": "10c18fea",
   "metadata": {},
   "outputs": [
    {
     "name": "stdout",
     "output_type": "stream",
     "text": [
      "99.02% 확률로 긍정 리뷰입니다.\n"
     ]
    }
   ],
   "source": [
    "sentiment_predict('유럽증시 전쟁연기 소식 15% ↑')"
   ]
  },
  {
   "cell_type": "code",
   "execution_count": 80,
   "id": "6fec9438",
   "metadata": {},
   "outputs": [
    {
     "name": "stdout",
     "output_type": "stream",
     "text": [
      "100.00% 확률로 긍정 리뷰입니다.\n"
     ]
    }
   ],
   "source": [
    "sentiment_predict('2호 회사 영업실적 최대 기대감 솔솔')"
   ]
  },
  {
   "cell_type": "code",
   "execution_count": 81,
   "id": "e3ccad1b",
   "metadata": {},
   "outputs": [
    {
     "name": "stdout",
     "output_type": "stream",
     "text": [
      "96.91% 확률로 긍정 리뷰입니다.\n"
     ]
    }
   ],
   "source": [
    "sentiment_predict('2호 회사 신규 상품 출시')"
   ]
  },
  {
   "cell_type": "code",
   "execution_count": 82,
   "id": "88616292",
   "metadata": {},
   "outputs": [
    {
     "name": "stdout",
     "output_type": "stream",
     "text": [
      "99.99% 확률로 부정 리뷰입니다.\n"
     ]
    }
   ],
   "source": [
    "sentiment_predict('코스피 공매도 및 외국인 매도에 하락 진행 중 ')"
   ]
  },
  {
   "cell_type": "code",
   "execution_count": 83,
   "id": "41873f4a",
   "metadata": {},
   "outputs": [
    {
     "name": "stdout",
     "output_type": "stream",
     "text": [
      "63.35% 확률로 긍정 리뷰입니다.\n"
     ]
    }
   ],
   "source": [
    "sentiment_predict(' 오를까 내릴까 결국 내렸지 하지만 오르길 기대하는 뉴스')"
   ]
  },
  {
   "cell_type": "code",
   "execution_count": null,
   "id": "81fef279",
   "metadata": {},
   "outputs": [],
   "source": []
  },
  {
   "cell_type": "code",
   "execution_count": null,
   "id": "78e4228a",
   "metadata": {},
   "outputs": [],
   "source": []
  }
 ],
 "metadata": {
  "kernelspec": {
   "display_name": "tensor01",
   "language": "python",
   "name": "tensor01"
  },
  "language_info": {
   "codemirror_mode": {
    "name": "ipython",
    "version": 3
   },
   "file_extension": ".py",
   "mimetype": "text/x-python",
   "name": "python",
   "nbconvert_exporter": "python",
   "pygments_lexer": "ipython3",
   "version": "3.8.0"
  },
  "varInspector": {
   "cols": {
    "lenName": 16,
    "lenType": 16,
    "lenVar": 40
   },
   "kernels_config": {
    "python": {
     "delete_cmd_postfix": "",
     "delete_cmd_prefix": "del ",
     "library": "var_list.py",
     "varRefreshCmd": "print(var_dic_list())"
    },
    "r": {
     "delete_cmd_postfix": ") ",
     "delete_cmd_prefix": "rm(",
     "library": "var_list.r",
     "varRefreshCmd": "cat(var_dic_list()) "
    }
   },
   "types_to_exclude": [
    "module",
    "function",
    "builtin_function_or_method",
    "instance",
    "_Feature"
   ],
   "window_display": false
  }
 },
 "nbformat": 4,
 "nbformat_minor": 5
}
